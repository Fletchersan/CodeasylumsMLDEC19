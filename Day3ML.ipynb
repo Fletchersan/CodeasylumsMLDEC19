{
 "cells": [
  {
   "cell_type": "markdown",
   "metadata": {},
   "source": [
    "# CLASSWORK"
   ]
  },
  {
   "cell_type": "code",
   "execution_count": 22,
   "metadata": {},
   "outputs": [
    {
     "name": "stdout",
     "output_type": "stream",
     "text": [
      " 1\n",
      " 2\n",
      " 3\n",
      " 4\n",
      " 5\n",
      " [4, 5]\n",
      " 6\n",
      " 7\n"
     ]
    }
   ],
   "source": [
    "# INDENT PRINT (NOT WORKING)\n",
    "\n",
    "a = [1,2,3,[4,5],6,7]\n",
    "def indentprint(a):\n",
    "    staticvariable\n",
    "    for i in a:\n",
    "        if(type(i)==list):\n",
    "            level+=1\n",
    "            indentprint(i,level)\n",
    "        print('    '*level,i)\n",
    "        level-=1\n",
    "indentprint(a)\n",
    "            "
   ]
  },
  {
   "cell_type": "code",
   "execution_count": 2,
   "metadata": {},
   "outputs": [],
   "source": [
    "a.append([1,2,3])"
   ]
  },
  {
   "cell_type": "code",
   "execution_count": 3,
   "metadata": {},
   "outputs": [],
   "source": [
    "a.insert(2,'HI')"
   ]
  },
  {
   "cell_type": "code",
   "execution_count": 4,
   "metadata": {},
   "outputs": [
    {
     "name": "stdout",
     "output_type": "stream",
     "text": [
      "['python', 'of', 'queue']\n",
      "p y t h o n   o f   q u e u e\n"
     ]
    }
   ],
   "source": [
    "string = \"python of queue\"\n",
    "l = string.split(' ')\n",
    "print(l)\n",
    "print(*string)"
   ]
  },
  {
   "cell_type": "code",
   "execution_count": 6,
   "metadata": {},
   "outputs": [],
   "source": [
    "#extend : if inserting a list, unpacks before inserting\n",
    "a.extend([11,22,333])"
   ]
  },
  {
   "cell_type": "code",
   "execution_count": 7,
   "metadata": {},
   "outputs": [
    {
     "name": "stdout",
     "output_type": "stream",
     "text": [
      "[1, 2, 'HI', 3, [4, 5], 6, 7, [1, 2, 3], 11, 22, 333]\n"
     ]
    }
   ],
   "source": [
    "print(a)"
   ]
  },
  {
   "cell_type": "code",
   "execution_count": null,
   "metadata": {},
   "outputs": [],
   "source": [
    "print(x)"
   ]
  },
  {
   "cell_type": "code",
   "execution_count": 13,
   "metadata": {},
   "outputs": [
    {
     "name": "stdout",
     "output_type": "stream",
     "text": [
      "[2, 'HI', 3, [4, 5], 6, 7, [1, 2, 3]]\n"
     ]
    }
   ],
   "source": [
    "print(a[1:-3])"
   ]
  },
  {
   "cell_type": "code",
   "execution_count": 10,
   "metadata": {},
   "outputs": [
    {
     "data": {
      "text/plain": [
       "list"
      ]
     },
     "execution_count": 10,
     "metadata": {},
     "output_type": "execute_result"
    }
   ],
   "source": [
    "type(a)"
   ]
  },
  {
   "cell_type": "code",
   "execution_count": 14,
   "metadata": {},
   "outputs": [],
   "source": [
    "# List v Tuple"
   ]
  },
  {
   "cell_type": "code",
   "execution_count": 21,
   "metadata": {},
   "outputs": [
    {
     "name": "stdout",
     "output_type": "stream",
     "text": [
      "(1, 1, 1, 1)\n"
     ]
    }
   ],
   "source": [
    "x = (1,)*4\n",
    "print(x)"
   ]
  },
  {
   "cell_type": "code",
   "execution_count": 28,
   "metadata": {},
   "outputs": [
    {
     "name": "stdout",
     "output_type": "stream",
     "text": [
      "{1, 2, 3}\n",
      "{1, 2, 3, 4, 5} {3} {4, 5} {1, 2}\n"
     ]
    }
   ],
   "source": [
    "# sets\n",
    "x ={3,4,5}\n",
    "y={2,2,2,3,1,1}\n",
    "print(y)\n",
    "print(x.union(y),x.intersection(y),x.difference(y),y.difference(x))\n"
   ]
  },
  {
   "cell_type": "code",
   "execution_count": 29,
   "metadata": {},
   "outputs": [
    {
     "data": {
      "text/plain": [
       "True"
      ]
     },
     "execution_count": 29,
     "metadata": {},
     "output_type": "execute_result"
    }
   ],
   "source": [
    "5 in x"
   ]
  },
  {
   "cell_type": "code",
   "execution_count": 36,
   "metadata": {},
   "outputs": [
    {
     "name": "stdout",
     "output_type": "stream",
     "text": [
      "{1, 2, 3, '4'}\n"
     ]
    }
   ],
   "source": [
    "s = set([1,2,3])\n",
    "s.add('4')\n",
    "print(s)"
   ]
  },
  {
   "cell_type": "code",
   "execution_count": 39,
   "metadata": {},
   "outputs": [],
   "source": [
    "f = frozenset([1,2,3])\n",
    "# f.add(4)\n",
    "# cannot be done"
   ]
  },
  {
   "cell_type": "markdown",
   "metadata": {},
   "source": [
    "# DICTIONARIES"
   ]
  },
  {
   "cell_type": "code",
   "execution_count": 2,
   "metadata": {},
   "outputs": [],
   "source": [
    "d = {\"name\":\"amogh\",\"branch\":\"MCE\",\"college\":\"DTU\"}"
   ]
  },
  {
   "cell_type": "code",
   "execution_count": 3,
   "metadata": {},
   "outputs": [
    {
     "name": "stdout",
     "output_type": "stream",
     "text": [
      "{'name': 'amogh', 'branch': 'MCE', 'college': 'DTU'}\n"
     ]
    }
   ],
   "source": [
    "print(d)"
   ]
  },
  {
   "cell_type": "code",
   "execution_count": 4,
   "metadata": {},
   "outputs": [
    {
     "data": {
      "text/plain": [
       "dict_keys(['name', 'branch', 'college'])"
      ]
     },
     "execution_count": 4,
     "metadata": {},
     "output_type": "execute_result"
    }
   ],
   "source": [
    "d.keys()"
   ]
  },
  {
   "cell_type": "code",
   "execution_count": 5,
   "metadata": {},
   "outputs": [
    {
     "data": {
      "text/plain": [
       "dict_values(['amogh', 'MCE', 'DTU'])"
      ]
     },
     "execution_count": 5,
     "metadata": {},
     "output_type": "execute_result"
    }
   ],
   "source": [
    "d.values()"
   ]
  },
  {
   "cell_type": "code",
   "execution_count": 6,
   "metadata": {},
   "outputs": [
    {
     "data": {
      "text/plain": [
       "dict_items([('name', 'amogh'), ('branch', 'MCE'), ('college', 'DTU')])"
      ]
     },
     "execution_count": 6,
     "metadata": {},
     "output_type": "execute_result"
    }
   ],
   "source": [
    "d.items()"
   ]
  },
  {
   "cell_type": "code",
   "execution_count": 7,
   "metadata": {},
   "outputs": [
    {
     "name": "stdout",
     "output_type": "stream",
     "text": [
      "name : amogh\n",
      "branch : MCE\n",
      "college : DTU\n"
     ]
    }
   ],
   "source": [
    "for i,j in d.items():\n",
    "    print(i,':',j)"
   ]
  },
  {
   "cell_type": "code",
   "execution_count": 8,
   "metadata": {},
   "outputs": [],
   "source": [
    "d.update(branch = \"MC\")"
   ]
  },
  {
   "cell_type": "code",
   "execution_count": 9,
   "metadata": {},
   "outputs": [
    {
     "data": {
      "text/plain": [
       "dict_items([('name', 'amogh'), ('branch', 'MC'), ('college', 'DTU')])"
      ]
     },
     "execution_count": 9,
     "metadata": {},
     "output_type": "execute_result"
    }
   ],
   "source": [
    "d.items()"
   ]
  },
  {
   "cell_type": "code",
   "execution_count": 11,
   "metadata": {},
   "outputs": [
    {
     "data": {
      "text/plain": [
       "'MC'"
      ]
     },
     "execution_count": 11,
     "metadata": {},
     "output_type": "execute_result"
    }
   ],
   "source": [
    "d.pop(\"branch\")"
   ]
  },
  {
   "cell_type": "code",
   "execution_count": 12,
   "metadata": {},
   "outputs": [
    {
     "data": {
      "text/plain": [
       "dict_items([('name', 'amogh'), ('college', 'DTU')])"
      ]
     },
     "execution_count": 12,
     "metadata": {},
     "output_type": "execute_result"
    }
   ],
   "source": [
    "d.items()"
   ]
  },
  {
   "cell_type": "code",
   "execution_count": 13,
   "metadata": {},
   "outputs": [],
   "source": [
    "d.update(branch = \"MC\")"
   ]
  },
  {
   "cell_type": "code",
   "execution_count": 14,
   "metadata": {},
   "outputs": [
    {
     "data": {
      "text/plain": [
       "dict_items([('name', 'amogh'), ('college', 'DTU'), ('branch', 'MC')])"
      ]
     },
     "execution_count": 14,
     "metadata": {},
     "output_type": "execute_result"
    }
   ],
   "source": [
    "d.items()"
   ]
  },
  {
   "cell_type": "code",
   "execution_count": 18,
   "metadata": {},
   "outputs": [
    {
     "name": "stdout",
     "output_type": "stream",
     "text": [
      "[1, 4, 9, 16, 25]\n"
     ]
    }
   ],
   "source": [
    "listi = [1,2,3,4,5]\n",
    "sq = lambda x:x**2\n",
    "lis = list(map(sq,listi))\n",
    "print(lis)"
   ]
  },
  {
   "cell_type": "code",
   "execution_count": null,
   "metadata": {},
   "outputs": [],
   "source": [
    "# filter and reduce"
   ]
  },
  {
   "cell_type": "code",
   "execution_count": null,
   "metadata": {},
   "outputs": [],
   "source": [
    "#addrevspoj"
   ]
  },
  {
   "cell_type": "code",
   "execution_count": 34,
   "metadata": {},
   "outputs": [],
   "source": [
    "def findfact(n):\n",
    "    c = 1\n",
    "    for i in range(1,n+1):\n",
    "        c=c*i\n",
    "    print(c)"
   ]
  },
  {
   "cell_type": "code",
   "execution_count": 35,
   "metadata": {},
   "outputs": [
    {
     "name": "stdout",
     "output_type": "stream",
     "text": [
      "120\n"
     ]
    }
   ],
   "source": [
    "findfact(5)"
   ]
  },
  {
   "cell_type": "code",
   "execution_count": 42,
   "metadata": {},
   "outputs": [
    {
     "name": "stdout",
     "output_type": "stream",
     "text": [
      "1000\n",
      "108\n"
     ]
    }
   ],
   "source": [
    "import math\n",
    "x = int(input())\n",
    "x0  =math.floor((math.log10(x)))*math.floor(math.log(x,2))*math.floor(math.log(x,5))\n",
    "print(x0)"
   ]
  },
  {
   "cell_type": "markdown",
   "metadata": {},
   "source": [
    "# Practice Questions"
   ]
  },
  {
   "cell_type": "code",
   "execution_count": 30,
   "metadata": {},
   "outputs": [
    {
     "name": "stdout",
     "output_type": "stream",
     "text": [
      "4 3 4 5 1 2 3 6 7 6 6 "
     ]
    }
   ],
   "source": [
    "# Remove repeated elements in the list save for the last occurence\n",
    "\n",
    "\n",
    "\n",
    "A = [4,3,4,5,1,2,3,6,7,6,6]\n",
    "# for i in A:\n",
    "#     if(A.count(i)>1):\n",
    "#         for _ in range(A.count(i)-1):\n",
    "#             A.remove(i)\n",
    "# print(A)\n",
    "\n",
    "for i in range(len(A)):\n",
    "    print(A[i],end=\" \")"
   ]
  },
  {
   "cell_type": "code",
   "execution_count": 23,
   "metadata": {},
   "outputs": [
    {
     "name": "stdout",
     "output_type": "stream",
     "text": [
      "p Y t H o N\n",
      "P y T h O n "
     ]
    }
   ],
   "source": [
    "a = \"pYtHoN\"\n",
    "b = list(a)\n",
    "for i in b:\n",
    "    if(i.isupper()==True):\n",
    "        print(i.lower(),end=' ')\n",
    "        continue\n",
    "    if(i.islower()==True):\n",
    "        print(i.upper(),end=' ')\n",
    "        continue\n"
   ]
  },
  {
   "cell_type": "code",
   "execution_count": 27,
   "metadata": {},
   "outputs": [
    {
     "name": "stdout",
     "output_type": "stream",
     "text": [
      "4\n",
      "5\n",
      "1\n",
      "2\n",
      "3\n",
      "7\n",
      "6\n"
     ]
    }
   ],
   "source": [
    "b = list(\"ppython\")\n",
    "\n",
    "for i in A:\n",
    "    print(i)\n"
   ]
  },
  {
   "cell_type": "code",
   "execution_count": 28,
   "metadata": {},
   "outputs": [
    {
     "name": "stdout",
     "output_type": "stream",
     "text": [
      "{1, 2, 3, 4, 5, 6, 7}\n"
     ]
    }
   ],
   "source": [
    "B = set(A)\n",
    "print(B)"
   ]
  },
  {
   "cell_type": "code",
   "execution_count": 6,
   "metadata": {},
   "outputs": [
    {
     "name": "stdout",
     "output_type": "stream",
     "text": [
      "12345\n",
      " 2345\n",
      "  345\n",
      "   45\n"
     ]
    }
   ],
   "source": [
    "n = 5\n",
    "for i in range(1,n):\n",
    "    for j in range(i-1):\n",
    "        print(\"\",end=\" \")\n",
    "    for j in range(i,n+1):\n",
    "        print(j,end='')\n",
    "    print('')"
   ]
  },
  {
   "cell_type": "code",
   "execution_count": 17,
   "metadata": {},
   "outputs": [
    {
     "name": "stdout",
     "output_type": "stream",
     "text": [
      "(1 + (x * 10 ))= 21 "
     ]
    }
   ],
   "source": [
    "import json\n",
    "def opconv(a):\n",
    "    if(a=='add'):\n",
    "        return '+'\n",
    "    if(a=='multiply'):\n",
    "        return '*'\n",
    "    if(a=='equal'):\n",
    "        return '='\n",
    "def readdict(data):\n",
    "    if(type(data['lhs'])==dict):\n",
    "        print('(',end=\"\")\n",
    "        readdict(data[\"lhs\"])\n",
    "        print(')',end=\"\")\n",
    "    else:\n",
    "        print(data[\"lhs\"],end=' ')\n",
    "\n",
    "    print(opconv(data[\"op\"]),end=\" \")\n",
    "\n",
    "    if(type(data['rhs'])==dict):\n",
    "        print('(',end=\"\")\n",
    "        readdict(data[\"rhs\"])\n",
    "        print(')',end=\"\")\n",
    "    else:\n",
    "        print(data['rhs'],end=' ')\n",
    "\n",
    "with open('data.txt') as json_file:\n",
    "    data = json.load(json_file)\n",
    "    readdict(data)\n",
    "\n",
    "    "
   ]
  },
  {
   "cell_type": "code",
   "execution_count": 20,
   "metadata": {},
   "outputs": [
    {
     "name": "stdout",
     "output_type": "stream",
     "text": [
      "2100\n",
      "12\n"
     ]
    }
   ],
   "source": [
    "#ADDREV\n",
    "\n",
    "n = str(input())\n",
    "b = 0\n",
    "for i in range(1,len(n)+1):\n",
    "    b = int(n[-i]) + b*10\n",
    "print(b)\n"
   ]
  },
  {
   "cell_type": "code",
   "execution_count": 19,
   "metadata": {},
   "outputs": [
    {
     "name": "stdout",
     "output_type": "stream",
     "text": [
      "1\n",
      "10\n",
      "2\n",
      "6\n",
      "4\n"
     ]
    }
   ],
   "source": [
    "#Julka\n",
    "t = int(input())\n",
    "while t>0:\n",
    "    t= t-1\n",
    "    total=int(input())\n",
    "    x = int(input())\n",
    "    a = (total-x)/2\n",
    "    print(int(a+x))\n",
    "    print(int(a))"
   ]
  },
  {
   "cell_type": "code",
   "execution_count": 17,
   "metadata": {},
   "outputs": [
    {
     "name": "stdout",
     "output_type": "stream",
     "text": [
      "10\n",
      "[0, 1, 2, 3, 4, 5, 6, 7, 8, 9]\n",
      "9876543210\n"
     ]
    }
   ],
   "source": [
    "# factorial 2\n",
    "a = int(input())\n",
    "b = list(range(a))\n",
    "print(b)\n",
    "c= 1\n",
    "for i in range(1,len(b)+1):\n",
    "    c = c*int(b[-i])\n",
    "print(c)"
   ]
  },
  {
   "cell_type": "code",
   "execution_count": 14,
   "metadata": {},
   "outputs": [
    {
     "name": "stdout",
     "output_type": "stream",
     "text": [
      "100\n",
      "24.0\n"
     ]
    }
   ],
   "source": [
    "#factorial\n",
    "# t = int(100)\n",
    "# i = int(5)\n",
    "# zeroes = int(0)\n",
    "# while n/ i >=  (1) :\n",
    "#     zeroes = zeroes + n/i;\n",
    "#     i = i*5\n",
    "t = int(input())\n",
    "i = 5\n",
    "zeroes = 0\n",
    "while t/i>=1:\n",
    "    zeroes+=t/i\n",
    "    i*=5\n",
    "print(zeroes)"
   ]
  },
  {
   "cell_type": "code",
   "execution_count": null,
   "metadata": {},
   "outputs": [],
   "source": []
  },
  {
   "cell_type": "code",
   "execution_count": null,
   "metadata": {},
   "outputs": [],
   "source": []
  },
  {
   "cell_type": "code",
   "execution_count": null,
   "metadata": {},
   "outputs": [],
   "source": []
  },
  {
   "cell_type": "code",
   "execution_count": null,
   "metadata": {},
   "outputs": [],
   "source": []
  }
 ],
 "metadata": {
  "kernelspec": {
   "display_name": "Python 3",
   "language": "python",
   "name": "python3"
  },
  "language_info": {
   "codemirror_mode": {
    "name": "ipython",
    "version": 3
   },
   "file_extension": ".py",
   "mimetype": "text/x-python",
   "name": "python",
   "nbconvert_exporter": "python",
   "pygments_lexer": "ipython3",
   "version": "3.7.4"
  }
 },
 "nbformat": 4,
 "nbformat_minor": 2
}
