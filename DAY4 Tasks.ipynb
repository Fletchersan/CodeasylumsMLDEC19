{
 "cells": [
  {
   "cell_type": "code",
   "execution_count": 11,
   "metadata": {},
   "outputs": [
    {
     "name": "stdout",
     "output_type": "stream",
     "text": [
      "2\n"
     ]
    }
   ],
   "source": [
    "# Question1\n",
    "def findstuff(a):\n",
    "    if(len(a)>2 and a[0]==a[-1]):\n",
    "        return True\n",
    "    return False\n",
    "a = ['sos','ss','grog','rent']\n",
    "b = list(filter(lambda x:findstuff(x)==True,a))\n",
    "print(len(b))"
   ]
  },
  {
   "cell_type": "code",
   "execution_count": 89,
   "metadata": {},
   "outputs": [
    {
     "name": "stdout",
     "output_type": "stream",
     "text": [
      "[6, 6, 6]\n"
     ]
    }
   ],
   "source": [
    "# Question 2\n",
    "a =[1,2,3]\n",
    "b = [5,4,3]\n",
    "c = list((map(lambda x,y: x+y,a,b)))\n",
    "print(c)"
   ]
  },
  {
   "cell_type": "code",
   "execution_count": 26,
   "metadata": {},
   "outputs": [
    {
     "name": "stdout",
     "output_type": "stream",
     "text": [
      "{1: 1, 2: 4, 3: 9, 4: 16, 5: 25, 6: 36, 7: 49, 8: 64, 9: 81, 10: 100, 11: 121, 12: 144, 13: 169, 14: 196, 15: 225}\n",
      "<class 'dict'>\n"
     ]
    }
   ],
   "source": [
    "# Question 3\n",
    "d15 ={x:x**2 for x in range(1,16)}\n",
    "print(d15)\n",
    "print(type(d15))"
   ]
  },
  {
   "cell_type": "code",
   "execution_count": 46,
   "metadata": {},
   "outputs": [
    {
     "name": "stdout",
     "output_type": "stream",
     "text": [
      "[11, 5, 6]\n"
     ]
    }
   ],
   "source": [
    "# Question 4\n",
    "\n",
    "def printuni(a):\n",
    "    \n",
    "    b = set(a.values())\n",
    "    b = (list(b))\n",
    "    print(b)\n",
    "c = {'a':5,'b':6,'c':5,'d':11}\n",
    "printuni(c)"
   ]
  },
  {
   "cell_type": "code",
   "execution_count": 64,
   "metadata": {},
   "outputs": [
    {
     "name": "stdout",
     "output_type": "stream",
     "text": [
      "('pencil', 100) ('pen', 99) ('eraser', 98) ('whitener', 50)\n",
      "pencil : 100 pen : 99 eraser : 98 "
     ]
    }
   ],
   "source": [
    "# Question 5\n",
    "shop = {\"pencil\":100,\"pen\":99,\"eraser\":98,\"whitener\":50}\n",
    "shopl = list(shop.items())\n",
    "shopl.sort(key=lambda x:x[1],reverse=True)\n",
    "print(*shopl)\n",
    "for i in range(3):\n",
    "    print(shopl[i][0],':',shopl[i][1],end=' ')"
   ]
  },
  {
   "cell_type": "code",
   "execution_count": 76,
   "metadata": {},
   "outputs": [
    {
     "name": "stdout",
     "output_type": "stream",
     "text": [
      "2\n",
      "[[1, 2], ['hi']]\n"
     ]
    }
   ],
   "source": [
    "# Question 6\n",
    "kv = {1:[1,2], 2:2 , 3:[\"hi\"]}\n",
    "c = list(filter(lambda x: (type(x)==list)==True,kv.values()))\n",
    "print(len(c))"
   ]
  },
  {
   "cell_type": "code",
   "execution_count": 84,
   "metadata": {},
   "outputs": [
    {
     "name": "stdout",
     "output_type": "stream",
     "text": [
      "{'pencil': 86.75, 'pen': 86.75, 'eraser': 86.75, 'whitener': 86.75}\n"
     ]
    }
   ],
   "source": [
    "# Question 7\n",
    "from statistics import mean\n",
    "shop = {\"pencil\":100,\"pen\":99,\"eraser\":98,\"whitener\":50}\n",
    "shopl = list(shop.values())\n",
    "y = mean(shopl)\n",
    "shop = {x:y for x in shop.keys()}\n",
    "print(shop)"
   ]
  },
  {
   "cell_type": "code",
   "execution_count": 87,
   "metadata": {},
   "outputs": [
    {
     "name": "stdout",
     "output_type": "stream",
     "text": [
      "2 3 4 5\n"
     ]
    }
   ],
   "source": [
    "# Question 8\n",
    "y = (1,2,3,4,5)\n",
    "# Item removed 1\n",
    "y = tuple(filter(lambda x:(x!=1)==True,y))\n",
    "print(*y)\n"
   ]
  },
  {
   "cell_type": "markdown",
   "metadata": {},
   "source": []
  },
  {
   "cell_type": "code",
   "execution_count": 98,
   "metadata": {},
   "outputs": [
    {
     "name": "stdout",
     "output_type": "stream",
     "text": [
      "['hih', 'ono', 'toyot']\n"
     ]
    }
   ],
   "source": [
    "# Question 9\n",
    "def findpalindrome(a):\n",
    "    for i in range(len(a)):\n",
    "        a = a.lower()\n",
    "        if(a[i]!=a[-i-1]):\n",
    "            return False\n",
    "        return True\n",
    "c = [\"hih\",\"sigh\",\"ono\",\"toyot\"]\n",
    "d = list(filter(lambda x:findpalindrome(x),c))\n",
    "print(d)"
   ]
  },
  {
   "cell_type": "code",
   "execution_count": 102,
   "metadata": {},
   "outputs": [
    {
     "name": "stdout",
     "output_type": "stream",
     "text": [
      "{2: 2, 4: 4}\n"
     ]
    }
   ],
   "source": [
    "# Question 10\n",
    "\n",
    "kv = {1:-1,2:2,3:-3,4:4}\n",
    "kv = {k:v for k,v in kv.items() if v>=0}\n",
    "print(kv)"
   ]
  },
  {
   "cell_type": "code",
   "execution_count": null,
   "metadata": {},
   "outputs": [],
   "source": []
  }
 ],
 "metadata": {
  "kernelspec": {
   "display_name": "Python 3",
   "language": "python",
   "name": "python3"
  },
  "language_info": {
   "codemirror_mode": {
    "name": "ipython",
    "version": 3
   },
   "file_extension": ".py",
   "mimetype": "text/x-python",
   "name": "python",
   "nbconvert_exporter": "python",
   "pygments_lexer": "ipython3",
   "version": "3.7.4"
  }
 },
 "nbformat": 4,
 "nbformat_minor": 2
}
